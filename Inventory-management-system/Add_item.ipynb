{
 "cells": [
  {
   "cell_type": "code",
   "execution_count": 2,
   "metadata": {},
   "outputs": [],
   "source": [
    "import json\n",
    "\n",
    "record={1:{\"name\": \"Dopamine\",\"qty\": 20,\"price\": 60,\"expdate\": \"nov-2022\"},\n",
    "        2:{\"name\": \"Phosphorus\",\"qty\": 24,\"price\": 120,\"expdate\": \"nov-2021\"},\n",
    "        3:{\"name\": \"Paracip 500 Tablet\",\"qty\": 10,\"price\": 120,\"expdate\": \"dec-2022\"},\n",
    "        4:{\"name\": \"Persol AC 2.5 Gel\",\"qty\": 15,\"price\": 100,\"expdate\": \"dec-2022\"},\n",
    "        5:{\"name\": \"Sumo Tablet\",\"qty\": 15,\"price\": 115,\"expdate\": \"dec-2022\"},\n",
    "        6:{\"name\":\"Antipain\",\"qty\":10,\"price\":100,\"expdate\":\"dec-2023\"},\n",
    "        7:{\"name\":\"abatacept\",\"qty\":10,\"price\":120,\"expdate\":\"nov-2024\"},\n",
    "        8:{\"name\":\"abacavir\",\"qty\":20,\"price\":150,\"expdate\":\"jan-2021\"},\n",
    "        9:{\"name\":\"Ziagen\",\"qty\":15,\"price\":200,\"expdate\":\"feb-2022\"},\n",
    "        10:{\"name\":\"ABACAVIR\",\"qty\":10,\"price\":150,\"expdate\":\"jan-2023\"}}\n",
    "\n",
    "js=json.dumps(record)\n",
    "\n",
    "fd = open(\"record.json\",\"w\")\n",
    "fd.write(js)\n",
    "fd.close()"
   ]
  },
  {
   "cell_type": "code",
   "execution_count": 3,
   "metadata": {},
   "outputs": [],
   "source": [
    "fd = open(\"record.json\",\"r\")\n",
    "r = fd.read()\n",
    "fd.close()"
   ]
  },
  {
   "cell_type": "code",
   "execution_count": 4,
   "metadata": {},
   "outputs": [],
   "source": [
    "record=json.loads(r)"
   ]
  },
  {
   "cell_type": "code",
   "execution_count": 5,
   "metadata": {},
   "outputs": [
    {
     "name": "stdout",
     "output_type": "stream",
     "text": [
      "Enter Product Id:1\n",
      "Enter Name:Bittu Raj\n",
      "Enter Quantity:10\n",
      "Enter Price:50\n",
      "Enter Expiry Date:dec-2023\n"
     ]
    }
   ],
   "source": [
    "prod_id=str(input(\"Enter Product Id:\"))\n",
    "name=str(input(\"Enter Name:\"))\n",
    "qty=int(input(\"Enter Quantity:\"))\n",
    "price=int(input(\"Enter Price:\"))\n",
    "expdate=str(input(\"Enter Expiry Date:\"))\n",
    "\n",
    "record[prod_id]={\"name\": name,\"qty\": qty,\"price\": price,\"expdate\": expdate}\n",
    "\n",
    "js=json.dumps(record)\n",
    "\n",
    "fd = open(\"record.json\",\"w\")\n",
    "fd.write(js)\n",
    "fd.close()"
   ]
  },
  {
   "cell_type": "code",
   "execution_count": null,
   "metadata": {},
   "outputs": [],
   "source": []
  }
 ],
 "metadata": {
  "kernelspec": {
   "display_name": "Python 3",
   "language": "python",
   "name": "python3"
  },
  "language_info": {
   "codemirror_mode": {
    "name": "ipython",
    "version": 3
   },
   "file_extension": ".py",
   "mimetype": "text/x-python",
   "name": "python",
   "nbconvert_exporter": "python",
   "pygments_lexer": "ipython3",
   "version": "3.8.8"
  }
 },
 "nbformat": 4,
 "nbformat_minor": 4
}
