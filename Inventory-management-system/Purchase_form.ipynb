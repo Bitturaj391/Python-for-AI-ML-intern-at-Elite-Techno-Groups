{
 "cells": [
  {
   "cell_type": "code",
   "execution_count": 1,
   "metadata": {},
   "outputs": [],
   "source": [
    "import json\n",
    "\n",
    "fd = open(\"record.json\",\"r\")\n",
    "r=fd.read()\n",
    "fd.close()\n",
    "\n",
    "records=json.loads(r)"
   ]
  },
  {
   "cell_type": "code",
   "execution_count": 2,
   "metadata": {},
   "outputs": [
    {
     "data": {
      "text/plain": [
       "{'1001': {'name': 'Dopamine', 'qty': 20, 'price': 60, 'expdate': 'nov-2022'},\n",
       " '1002': {'name': 'Phosphorus',\n",
       "  'qty': 24,\n",
       "  'price': 120,\n",
       "  'expdate': 'nov-2021'},\n",
       " '1003': {'name': 'Paracip 500 Tablet',\n",
       "  'qty': 10,\n",
       "  'price': 120,\n",
       "  'expdate': 'dec-2022'},\n",
       " '1004': {'name': 'Persol AC 2.5 Gel',\n",
       "  'qty': 15,\n",
       "  'price': 100,\n",
       "  'expdate': 'dec-2022'},\n",
       " '1005': {'name': 'Sumo Tablet',\n",
       "  'qty': 15,\n",
       "  'price': 115,\n",
       "  'expdate': 'dec-2022'},\n",
       " '1006': {'name': 'Falexan', 'qty': 40, 'price': 200, 'expdate': 'dec-2022'}}"
      ]
     },
     "execution_count": 2,
     "metadata": {},
     "output_type": "execute_result"
    }
   ],
   "source": [
    "records"
   ]
  },
  {
   "cell_type": "code",
   "execution_count": 4,
   "metadata": {},
   "outputs": [
    {
     "name": "stdout",
     "output_type": "stream",
     "text": [
      "Enter the product_Id: 1005\n",
      "Enter the quantity: 6\n",
      "***********************\n",
      "Product:  Sumo Tablet\n",
      "Price:  115\n",
      "Exp.date:  dec-2022\n",
      "------------------------\n",
      "Billing Amout: Rs 690\n"
     ]
    }
   ],
   "source": [
    "ui_prod  = str (input(\"Enter the product_Id: \"))\n",
    "ui_quant = int (input(\"Enter the quantity: \"))\n",
    " \n",
    "print(\"***********************\")\n",
    "print(\"Product: \", records[ui_prod]['name'])\n",
    "print(\"Price: \",records[ui_prod]['price'])\n",
    "print(\"Exp.date: \",records[ui_prod]['expdate'])\n",
    "print(\"------------------------\")\n",
    "print(\"Billing Amout: Rs\", records[ui_prod]['price']*ui_quant)\n",
    "\n",
    "records[ui_prod]['qty']=records[ui_prod]['qty']-ui_quant\n"
   ]
  },
  {
   "cell_type": "code",
   "execution_count": 5,
   "metadata": {},
   "outputs": [],
   "source": [
    "js=json.dumps(records)\n",
    "\n",
    "fd=open(\"record.json\",'w')\n",
    "fd.write(js)\n",
    "fd.close()"
   ]
  },
  {
   "cell_type": "code",
   "execution_count": 6,
   "metadata": {},
   "outputs": [],
   "source": [
    "sales={1:{'prod':ui_prod,'qty':ui_quant,'amount':records[ui_prod]['price']*ui_quant},}\n"
   ]
  },
  {
   "cell_type": "code",
   "execution_count": 7,
   "metadata": {},
   "outputs": [],
   "source": [
    "sales[(len(sales) +1)] = {'prod':ui_prod,'qty':ui_quant,'amount':records[ui_prod]['price']*ui_quant}\n"
   ]
  },
  {
   "cell_type": "code",
   "execution_count": 8,
   "metadata": {},
   "outputs": [],
   "source": [
    "sale=json.dumps(sales)\n",
    "\n",
    "fd=open(\"sales.json\",'w')\n",
    "fd.write(sale)\n",
    "fd.close()"
   ]
  }
 ],
 "metadata": {
  "kernelspec": {
   "display_name": "Python 3",
   "language": "python",
   "name": "python3"
  },
  "language_info": {
   "codemirror_mode": {
    "name": "ipython",
    "version": 3
   },
   "file_extension": ".py",
   "mimetype": "text/x-python",
   "name": "python",
   "nbconvert_exporter": "python",
   "pygments_lexer": "ipython3",
   "version": "3.8.8"
  }
 },
 "nbformat": 4,
 "nbformat_minor": 4
}
